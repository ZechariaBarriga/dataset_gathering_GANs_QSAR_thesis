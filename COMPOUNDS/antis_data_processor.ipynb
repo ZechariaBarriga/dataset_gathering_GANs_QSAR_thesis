{
 "cells": [
  {
   "cell_type": "code",
   "execution_count": 1,
   "id": "472d2dce-41a0-4c9b-8910-d6bb70ef5e8e",
   "metadata": {},
   "outputs": [
    {
     "name": "stderr",
     "output_type": "stream",
     "text": [
      "\n",
      "KeyboardInterrupt\n",
      "\n"
     ]
    }
   ],
   "source": [
    "import pandas as pd\n",
    "from rdkit import Chem\n",
    "from rdkit.Chem import Descriptors, Lipinski\n",
    "from chembl_webresource_client.new_client import new_client\n",
    "import os"
   ]
  },
  {
   "cell_type": "code",
   "execution_count": null,
   "id": "68a4ed42-e8a5-440e-b3b4-f7b96189fa4b",
   "metadata": {},
   "outputs": [],
   "source": [
    "ntds = [\n",
    "    'Antibiotic',\n",
    "    'Antifungal',\n",
    "    'Antiviral',\n",
    "    'Antiparasitic',\n",
    "    'Antihelminthic'\n",
    "]\n",
    "\n",
    "name = ntds[4] # CSV file name\n",
    "print(name)\n",
    "file_path = name + '.csv'\n",
    "df = pd.read_csv(file_path, delimiter=';')\n",
    "activity = new_client.activity"
   ]
  },
  {
   "cell_type": "code",
   "execution_count": null,
   "id": "87b40a71-fda5-4cde-8d4e-defe1e3abf83",
   "metadata": {},
   "outputs": [],
   "source": [
    "output_folder = name+ '_Dataset (forreal)'\n",
    "os.makedirs(output_folder, exist_ok=True)"
   ]
  },
  {
   "cell_type": "code",
   "execution_count": null,
   "id": "9d7397ac-5a1a-4208-b4fb-dae421a656a7",
   "metadata": {},
   "outputs": [],
   "source": [
    "bioactivities = activity.filter(molecule_chembl_id__in=df['ChEMBL ID'].tolist(), type='IC50')"
   ]
  },
  {
   "cell_type": "code",
   "execution_count": null,
   "id": "dee6325b-174d-44a1-955d-28a5e64cfabe",
   "metadata": {},
   "outputs": [],
   "source": [
    "# Initialize data to store important information\n",
    "data = {'molecule_chembl_id': [],\n",
    "        'canonical_smiles': [],\n",
    "        'pchembl_value': []"
   ]
  },
  {
   "cell_type": "code",
   "execution_count": null,
   "id": "d5abb8e8-ea87-482b-98aa-25c8223434b0",
   "metadata": {},
   "outputs": [],
   "source": [
    "# Store bioactivity data in initialized data\n",
    "for entry in bioactivities:\n",
    "    data['molecule_chembl_id'].append(entry.get('molecule_chembl_id', ''))\n",
    "    data['canonical_smiles'].append(entry.get('canonical_smiles', ''))\n",
    "    data['pchembl_value'].append(entry.get('pchembl_value', ''))"
   ]
  },
  {
   "cell_type": "code",
   "execution_count": null,
   "id": "068f78ee-a978-4e3d-8058-7d1a2d995712",
   "metadata": {},
   "outputs": [],
   "source": [
    "df_bioactivities = pd.DataFrame(data)"
   ]
  },
  {
   "cell_type": "code",
   "execution_count": null,
   "id": "a35ce8d9-e2c4-412e-9d65-c9a8d73f9851",
   "metadata": {},
   "outputs": [],
   "source": [
    "\n",
    "df_bioactivities['pchembl_value'] = pd.to_numeric(df_bioactivities['pchembl_value'], errors='coerce')\n",
    "\n",
    "df_bioactivities = df_bioactivities.dropna(subset=['pchembl_value'])\n",
    "\n",
    "# Find indices of rows with the maximum pchembl_value for each canonical_smiles\n",
    "idx_to_keep = df_bioactivities.groupby('canonical_smiles')['pchembl_value'].idxmax()\n",
    "\n",
    "# Select rows with the highest pchembl_value for each canonical_smiles\n",
    "df_filtered = df_bioactivities.loc[idx_to_keep]\n",
    "\n",
    "print(len(df_filtered))\n"
   ]
  },
  {
   "cell_type": "code",
   "execution_count": null,
   "id": "981e40ca-f39c-4d26-85b6-eb0eef2533ac",
   "metadata": {},
   "outputs": [],
   "source": [
    "df_bioactivities = df_filtered.drop_duplicates()\n",
    "df_bioactivities = df_filtered.dropna(subset=['canonical_smiles'])\n"
   ]
  },
  {
   "cell_type": "code",
   "execution_count": null,
   "id": "35ce522c-eae5-42b3-8a15-038675100a5b",
   "metadata": {},
   "outputs": [],
   "source": [
    "csv_file_path = os.path.join(output_folder, name + '_IC50.csv')\n",
    "df_bioactivities.to_csv(csv_file_path, index=False)\n"
   ]
  },
  {
   "cell_type": "code",
   "execution_count": null,
   "id": "3f9530d6-bece-4fc5-8c4d-f83538428130",
   "metadata": {},
   "outputs": [],
   "source": []
  }
 ],
 "metadata": {
  "kernelspec": {
   "display_name": "Python 3 (ipykernel)",
   "language": "python",
   "name": "python3"
  },
  "language_info": {
   "codemirror_mode": {
    "name": "ipython",
    "version": 3
   },
   "file_extension": ".py",
   "mimetype": "text/x-python",
   "name": "python",
   "nbconvert_exporter": "python",
   "pygments_lexer": "ipython3",
   "version": "3.12.3"
  }
 },
 "nbformat": 4,
 "nbformat_minor": 5
}
