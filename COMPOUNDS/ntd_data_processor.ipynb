{
 "cells": [
  {
   "cell_type": "code",
   "execution_count": 1,
   "id": "c3a3baf1-f99e-41f2-977e-261e815e9d67",
   "metadata": {},
   "outputs": [],
   "source": [
    "import os\n",
    "import pandas as pd\n",
    "from rdkit import Chem\n",
    "from rdkit.Chem import Descriptors, Lipinski\n",
    "from chembl_webresource_client.new_client import new_client\n",
    "\n"
   ]
  },
  {
   "cell_type": "code",
   "execution_count": 2,
   "id": "fa811981-6969-4251-a9af-718b5c7ec985",
   "metadata": {},
   "outputs": [
    {
     "name": "stdout",
     "output_type": "stream",
     "text": [
      "Trypanosoma\n"
     ]
    }
   ],
   "source": [
    "target = new_client.target\n",
    "activity = new_client.activity\n",
    "\n",
    "ntds = [\n",
    "    'Cryptosporidium',\n",
    "    'Entamoeba',\n",
    "    'Giardia',\n",
    "    'Leishmania',\n",
    "    'Nematoda',\n",
    "    'Plasmodium',\n",
    "    'Schistosoma',\n",
    "    'Toxoplasma',\n",
    "    'Trachomatis',\n",
    "    'Trypanosoma'#9\n",
    "]\n",
    "name = ntds[9]\n",
    "target_query = target.search(name) # Genus of selected NTD\n",
    "targets = target_query.all()\n",
    "print(name)"
   ]
  },
  {
   "cell_type": "code",
   "execution_count": 3,
   "id": "cab18a3d-5fa1-40d1-8542-3e9ed741df93",
   "metadata": {},
   "outputs": [
    {
     "name": "stdout",
     "output_type": "stream",
     "text": [
      "75\n"
     ]
    }
   ],
   "source": [
    "print(len(target_query))"
   ]
  },
  {
   "cell_type": "code",
   "execution_count": 4,
   "id": "26ecd76c-bd7b-4574-b85c-d9a7e4024f97",
   "metadata": {},
   "outputs": [
    {
     "name": "stdout",
     "output_type": "stream",
     "text": [
      "[{'cross_references': [], 'organism': 'Trypanosoma', 'pref_name': 'Trypanosoma', 'score': 16.0, 'species_group_flag': True, 'target_chembl_id': 'CHEMBL612883', 'target_components': [], 'target_type': 'ORGANISM', 'tax_id': 5690}, {'cross_references': [], 'organism': 'Trypanosoma brucei', 'pref_name': 'Trypanosoma brucei', 'score': 14.0, 'species_group_flag': False, 'target_chembl_id': 'CHEMBL612849', 'target_components': [], 'target_type': 'ORGANISM', 'tax_id': 5691}, {'cross_references': [], 'organism': 'Trypanosoma cruzi', 'pref_name': 'Trypanosoma cruzi', 'score': 14.0, 'species_group_flag': False, 'target_chembl_id': 'CHEMBL368', 'target_components': [], 'target_type': 'ORGANISM', 'tax_id': 5693}, {'cross_references': [], 'organism': 'Trypanosoma evansi', 'pref_name': 'Trypanosoma evansi', 'score': 14.0, 'species_group_flag': False, 'target_chembl_id': 'CHEMBL1075362', 'target_components': [], 'target_type': 'ORGANISM', 'tax_id': 5697}, '...(remaining elements truncated)...']\n"
     ]
    }
   ],
   "source": [
    "print(targets)"
   ]
  },
  {
   "cell_type": "code",
   "execution_count": 5,
   "id": "c4ab7153-4873-418f-8a62-72d58c51c302",
   "metadata": {},
   "outputs": [],
   "source": [
    "output_folder = '_' + name+ '_Dataset (forreal)'\n",
    "os.makedirs(output_folder, exist_ok=True)"
   ]
  },
  {
   "cell_type": "code",
   "execution_count": 6,
   "id": "f391e146-b394-4e26-a08f-556dc67c1ad0",
   "metadata": {},
   "outputs": [],
   "source": [
    "def check_lipinski_rule(smiles):\n",
    "    if smiles and smiles.strip():  # Check if SMILES is not None or empty\n",
    "        mol = Chem.MolFromSmiles(smiles)\n",
    "        if mol:\n",
    "            return all([Lipinski.NumHDonors(mol) <= 5, Lipinski.NumHAcceptors(mol) <= 10, Descriptors.MolWt(mol) <= 500, Lipinski.NumRotatableBonds(mol) <= 10])\n",
    "    return False"
   ]
  },
  {
   "cell_type": "code",
   "execution_count": 7,
   "id": "927426f0-1366-43f4-8b91-4bb2d812da0e",
   "metadata": {},
   "outputs": [
    {
     "name": "stdout",
     "output_type": "stream",
     "text": [
      "4\n",
      "2443\n",
      "8639\n",
      "62\n",
      "18\n",
      "70\n",
      "No valid data for target CHEMBL5209658\n",
      "No valid data for target CHEMBL4879389\n",
      "5388\n",
      "267\n",
      "4515\n",
      "109\n",
      "231\n",
      "732\n",
      "No valid data for target CHEMBL2601\n",
      "No valid data for target CHEMBL5069\n",
      "187\n",
      "No valid data for target CHEMBL3697\n",
      "81\n",
      "42\n",
      "55\n",
      "9\n",
      "No valid data for target CHEMBL3328\n",
      "17\n",
      "19\n",
      "No valid data for target CHEMBL5220\n",
      "34\n",
      "34\n",
      "54\n",
      "38\n",
      "No valid data for target CHEMBL6134\n",
      "No valid data for target CHEMBL5672\n",
      "88\n",
      "18\n",
      "16\n",
      "11\n",
      "No valid data for target CHEMBL1075156\n",
      "19\n",
      "8\n",
      "14\n",
      "No valid data for target CHEMBL1667688\n",
      "51\n",
      "No valid data for target CHEMBL1741167\n",
      "191\n",
      "1\n",
      "51\n",
      "249\n",
      "No valid data for target CHEMBL2146316\n",
      "No valid data for target CHEMBL2189141\n",
      "No valid data for target CHEMBL2362982\n",
      "No valid data for target CHEMBL2366047\n",
      "42\n",
      "No valid data for target CHEMBL3286069\n",
      "No valid data for target CHEMBL3337328\n",
      "No valid data for target CHEMBL3758065\n",
      "No valid data for target CHEMBL3826861\n",
      "2\n",
      "5\n",
      "504\n",
      "13\n",
      "130\n",
      "No valid data for target CHEMBL4105987\n",
      "3\n",
      "46\n",
      "No valid data for target CHEMBL4295599\n",
      "1\n",
      "No valid data for target CHEMBL4295601\n",
      "3\n",
      "No valid data for target CHEMBL4295611\n",
      "No valid data for target CHEMBL4495551\n",
      "1\n",
      "No valid data for target CHEMBL4662925\n",
      "No valid data for target CHEMBL4662926\n",
      "No valid data for target CHEMBL4662930\n",
      "No valid data for target CHEMBL4665581\n",
      "17841\n",
      "Done :D\n"
     ]
    }
   ],
   "source": [
    "test_bioactivities_list = []\n",
    "\n",
    "for target_entry in targets:\n",
    "    target_id = target_entry['target_chembl_id']\n",
    "\n",
    "    bioactivities = activity.filter(\n",
    "        target_chembl_id=target_entry['target_chembl_id'],\n",
    "        type='IC50'\n",
    "    ).only(\n",
    "        'molecule_chembl_id', \n",
    "        'canonical_smiles',  \n",
    "        'pchembl_value'\n",
    "    )\n",
    "    if bioactivities:\n",
    "        df_bioactivities = pd.DataFrame(bioactivities)\n",
    "        df_bioactivities = df_bioactivities.drop_duplicates(subset=['canonical_smiles']).dropna()\n",
    "    \n",
    "        if not df_bioactivities.empty:\n",
    "            df_bioactivities['standard_value'] = pd.to_numeric(df_bioactivities['standard_value'], errors='coerce')    \n",
    "            df_bioactivities = df_bioactivities[[\n",
    "                'molecule_chembl_id', \n",
    "                'canonical_smiles',\n",
    "                'pchembl_value'\n",
    "            ]]\n",
    "            test_bioactivities_list.append(df_bioactivities)\n",
    "            print(len(df_bioactivities))\n",
    "            # print(df_bioactivities.head())\n",
    "            # print(len(df_bioactivities))\n",
    "    else:\n",
    "        print(f\"No valid data for target {target_id}\")\n",
    "# Concatenate all DataFrames\n",
    "test_bioactivities_list = pd.concat(test_bioactivities_list, ignore_index=True)\n",
    "test_bioactivities_list = test_bioactivities_list.drop_duplicates(subset=['canonical_smiles'])\n",
    "csv_filename = os.path.join(output_folder, name +'_IC50.csv')\n",
    "\n",
    "test_bioactivities_list.to_csv(csv_filename, index=False)\n",
    "print(len(test_bioactivities_list))\n",
    "print(\"Done :D\")"
   ]
  },
  {
   "cell_type": "code",
   "execution_count": null,
   "id": "35f30b2f-bace-4725-b662-7552e4f223b7",
   "metadata": {},
   "outputs": [],
   "source": []
  },
  {
   "cell_type": "code",
   "execution_count": 8,
   "id": "cc8465a8-2a8b-4622-93f1-78b96fbacddd",
   "metadata": {},
   "outputs": [],
   "source": [
    "# for target_entry in targets:\n",
    "#     test_bioactivities_list = []\n",
    "\n",
    "#     target_id = target_entry['target_chembl_id']\n",
    "    \n",
    "#     # Get bioactivity data for the target\n",
    "#     bioactivities = activity.filter(target_chembl_id=target_entry['target_chembl_id'], type='IC50').only(\n",
    "#         'molecule_chembl_id', \n",
    "#         'canonical_smiles',  \n",
    "#         'standard_value',\n",
    "#         'standard_units',\n",
    "#         'standard_type',\n",
    "#         'pchembl_value',\n",
    "#         'target_pref_name',\n",
    "#         'bao_label'\n",
    "#     )\n",
    "#     df_bioactivities = pd.DataFrame(bioactivities)\n",
    "#     df_bioactivities = df_bioactivities.drop_duplicates(subset=['canonical_smiles']).dropna()\n",
    "\n",
    "#     if not df_bioactivities.empty:\n",
    "\n",
    "#         df_bioactivities['passes_lipinski'] = df_bioactivities['canonical_smiles'].apply(check_lipinski_rule)\n",
    "#         df_bioactivities = df_bioactivities[df_bioactivities['passes_lipinski']]\n",
    "\n",
    "#         df_bioactivities['standard_value'] = pd.to_numeric(df_bioactivities['standard_value'], errors='coerce')\n",
    "#         df_bioactivities = df_bioactivities.dropna(subset=['standard_value'])\n",
    "\n",
    "        \n",
    "#         df_bioactivities = df_bioactivities[[\n",
    "#             'molecule_chembl_id', \n",
    "#             'canonical_smiles',  \n",
    "#             'standard_value',\n",
    "#             'standard_units',\n",
    "#             'standard_type',\n",
    "#             'pchembl_value',\n",
    "#             'target_pref_name',\n",
    "#             'bao_label', \n",
    "#             'passes_lipinski'\n",
    "#         ]]\n",
    "#         test_bioactivities_list.append(df_bioactivities)\n",
    "\n",
    "#         test_bioactivities = pd.concat(test_bioactivities_list, ignore_index=True)\n",
    "        \n",
    "#         csv_filename = os.path.join(output_folder, f'{target_id}.csv')\n",
    "#         test_bioactivities.to_csv(csv_filename, index=False)\n",
    "#         # print(df_bioactivities.head())\n",
    "#         # print(len(df_bioactivities))\n",
    "\n",
    "\n",
    "#     else:\n",
    "#         print(f\"No valid data for target {target_id}\")\n",
    "\n",
    "# # Concatenate all DataFrames outside the loop\n",
    "\n",
    "\n",
    "# print(\"Done :D\")"
   ]
  }
 ],
 "metadata": {
  "kernelspec": {
   "display_name": "Python 3 (ipykernel)",
   "language": "python",
   "name": "python3"
  },
  "language_info": {
   "codemirror_mode": {
    "name": "ipython",
    "version": 3
   },
   "file_extension": ".py",
   "mimetype": "text/x-python",
   "name": "python",
   "nbconvert_exporter": "python",
   "pygments_lexer": "ipython3",
   "version": "3.12.3"
  }
 },
 "nbformat": 4,
 "nbformat_minor": 5
}
