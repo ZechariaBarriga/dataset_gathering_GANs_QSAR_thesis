{
 "cells": [
  {
   "cell_type": "code",
   "execution_count": null,
   "id": "e9307182-d0f1-4ff1-97e3-8a6adb366101",
   "metadata": {},
   "outputs": [],
   "source": [
    "import pandas as pd\n",
    "from rdkit import Chem\n",
    "from rdkit.Chem import Descriptors, Lipinski\n",
    "from chembl_webresource_client.new_client import new_client\n",
    "import os"
   ]
  },
  {
   "cell_type": "code",
   "execution_count": null,
   "id": "224ec0a7-96e4-44d9-8862-caf4fd17c33f",
   "metadata": {},
   "outputs": [],
   "source": [
    "# Create a ChEMBL client\n",
    "target = new_client.target\n",
    "activity = new_client.activity\n",
    "target_query = target.search('bacteria')\n",
    "targets_all = target_query.all()\n",
    "print(len(target_query))"
   ]
  },
  {
   "cell_type": "code",
   "execution_count": null,
   "id": "3b3ce48a-ee32-4090-a4ff-2ff4a52ab285",
   "metadata": {},
   "outputs": [],
   "source": [
    "# Create a folder to store the CSV files\n",
    "output_folder = 'Bacteria_Dataset (forreal)'\n",
    "os.makedirs(output_folder, exist_ok=True)"
   ]
  },
  {
   "cell_type": "code",
   "execution_count": null,
   "id": "4bb8017d-1242-4da8-944c-6d2d11c86813",
   "metadata": {},
   "outputs": [],
   "source": [
    "# Function to check Lipinski's Rule of Five\n",
    "def check_lipinski_rule(smiles):\n",
    "    if smiles and smiles.strip():  # Check if SMILES is not None or empty\n",
    "        mol = Chem.MolFromSmiles(smiles)\n",
    "        if mol:\n",
    "            return all([Lipinski.NumHDonors(mol) <= 5, Lipinski.NumHAcceptors(mol) <= 10, Descriptors.MolWt(mol) <= 500, Lipinski.NumRotatableBonds(mol) <= 10])\n",
    "    return False"
   ]
  },
  {
   "cell_type": "code",
   "execution_count": null,
   "id": "f295d8fd-5319-4f0f-b343-5ea0d5782a86",
   "metadata": {},
   "outputs": [],
   "source": [
    "test_bioactivities = pd.DataFrame()\n",
    "\n",
    "for target_entry in targets_all:\n",
    "\n",
    "    target_id = target_entry['target_chembl_id']\n",
    "    \n",
    "    # Get bioactivity data for the target\n",
    "    bioactivities = activity.filter(target_chembl_id=target_entry['target_chembl_id'], type='IC50').only(\n",
    "        'molecule_chembl_id', \n",
    "        'canonical_smiles',  \n",
    "        'standard_value',\n",
    "        'standard_units',\n",
    "        'standard_type',\n",
    "        'pchembl_value',\n",
    "        'target_pref_name',\n",
    "        'bao_label', \n",
    "    )\n",
    "    df = pd.DataFrame(bioactivities)\n",
    "\n",
    "    df_bioactivities = df.drop_duplicates(subset=['canonical_smiles']).dropna()\n",
    "    \n",
    "    if not df_bioactivities.empty:\n",
    "        df_bioactivities['passes_lipinski'] = df_bioactivities['canonical_smiles'].apply(check_lipinski_rule)\n",
    "        df_bioactivities = df_bioactivities[df_bioactivities['passes_lipinski']]\n",
    "\n",
    "        df_bioactivities['standard_value'] = pd.to_numeric(df_bioactivities['standard_value'], errors='coerce')\n",
    "        df_bioactivities = df_bioactivities.dropna(subset=['standard_value'])\n",
    "\n",
    "        \n",
    "        df_bioactivities = df_bioactivities[[\n",
    "            'molecule_chembl_id', \n",
    "            'canonical_smiles',  \n",
    "            'standard_value',\n",
    "            'standard_units',\n",
    "            'standard_type',\n",
    "            'pchembl_value',\n",
    "            'target_pref_name',\n",
    "            'bao_label', \n",
    "            'passes_lipinski'\n",
    "        ]]\n",
    "        test_bioactivities = pd.concat([test_bioactivities, df_bioactivities], ignore_index=True)\n",
    "        \n",
    "        # print(test_bioactivities.head())\n",
    "        print(len(test_bioactivities))\n",
    "    else:\n",
    "        print(f\"No valid data for target {target_id}\")\n",
    "\n",
    "test_bioactivities = test_bioactivities.drop_duplicates(subset=['canonical_smiles']).reset_index(drop=True)\n",
    "\n",
    "csv_filename = os.path.join(output_folder, 'Bacteria_.csv')\n",
    "test_bioactivities.to_csv(csv_filename, index=False)\n",
    "\n",
    "print(\"Done :D\")\n",
    "\n"
   ]
  },
  {
   "cell_type": "code",
   "execution_count": null,
   "id": "8d92568a-1abd-4f30-91bb-98c58c57c96d",
   "metadata": {},
   "outputs": [],
   "source": []
  }
 ],
 "metadata": {
  "kernelspec": {
   "display_name": "Python 3 (ipykernel)",
   "language": "python",
   "name": "python3"
  },
  "language_info": {
   "codemirror_mode": {
    "name": "ipython",
    "version": 3
   },
   "file_extension": ".py",
   "mimetype": "text/x-python",
   "name": "python",
   "nbconvert_exporter": "python",
   "pygments_lexer": "ipython3",
   "version": "3.11.4"
  }
 },
 "nbformat": 4,
 "nbformat_minor": 5
}
