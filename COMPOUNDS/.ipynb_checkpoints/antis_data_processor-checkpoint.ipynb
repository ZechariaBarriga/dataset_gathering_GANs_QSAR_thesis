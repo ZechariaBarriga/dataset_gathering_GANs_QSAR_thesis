{
 "cells": [
  {
   "cell_type": "code",
   "execution_count": 1,
   "id": "472d2dce-41a0-4c9b-8910-d6bb70ef5e8e",
   "metadata": {},
   "outputs": [],
   "source": [
    "import pandas as pd\n",
    "from rdkit import Chem\n",
    "from rdkit.Chem import Descriptors, Lipinski\n",
    "from chembl_webresource_client.new_client import new_client\n",
    "import os"
   ]
  },
  {
   "cell_type": "code",
   "execution_count": 2,
   "id": "68a4ed42-e8a5-440e-b3b4-f7b96189fa4b",
   "metadata": {},
   "outputs": [
    {
     "name": "stdout",
     "output_type": "stream",
     "text": [
      "Trypanosomiasis\n"
     ]
    }
   ],
   "source": [
    "ntds = [\n",
    "    'Antibiotic',\n",
    "    'Antifungal',\n",
    "    'Antiviral',\n",
    "    'Antiparasitic',\n",
    "    'Antihelminthic'\n",
    "]\n",
    "\n",
    "name = ntds[0] # CSV file name\n",
    "print(name)\n",
    "file_path = name + '.csv'\n",
    "df = pd.read_csv(file_path, delimiter=';')\n",
    "activity = new_client.activity\n"
   ]
  },
  {
   "cell_type": "code",
   "execution_count": 3,
   "id": "87b40a71-fda5-4cde-8d4e-defe1e3abf83",
   "metadata": {},
   "outputs": [],
   "source": [
    "output_folder = name+ '_Dataset (forreal)'\n",
    "os.makedirs(output_folder, exist_ok=True)"
   ]
  },
  {
   "cell_type": "code",
   "execution_count": 4,
   "id": "9d7397ac-5a1a-4208-b4fb-dae421a656a7",
   "metadata": {},
   "outputs": [
    {
     "name": "stdout",
     "output_type": "stream",
     "text": [
      "1584\n"
     ]
    }
   ],
   "source": [
    "bioactivities = activity.filter(molecule_chembl_id__in=df['ChEMBL ID'].tolist(), type='IC50')\n",
    "\n",
    "print(len(bioactivities))"
   ]
  },
  {
   "cell_type": "code",
   "execution_count": 5,
   "id": "dee6325b-174d-44a1-955d-28a5e64cfabe",
   "metadata": {},
   "outputs": [],
   "source": [
    "# Initialize data to store important information\n",
    "data = {'molecule_chembl_id': [],\n",
    "        'canonical_smiles': [],\n",
    "        'standard_value': [],\n",
    "        'standard_units': [],\n",
    "        'standard_type': [],\n",
    "        'pchembl_value': [],\n",
    "        'target_pref_name': [],\n",
    "        'bao_label': []}\n"
   ]
  },
  {
   "cell_type": "code",
   "execution_count": 6,
   "id": "d5abb8e8-ea87-482b-98aa-25c8223434b0",
   "metadata": {},
   "outputs": [
    {
     "name": "stdout",
     "output_type": "stream",
     "text": [
      "done :d\n",
      "8\n"
     ]
    }
   ],
   "source": [
    "# Store bioactivity data in initialized data\n",
    "for entry in bioactivities:\n",
    "    data['molecule_chembl_id'].append(entry.get('molecule_chembl_id', ''))\n",
    "    data['canonical_smiles'].append(entry.get('canonical_smiles', ''))\n",
    "    data['standard_value'].append(entry.get('standard_value', ''))\n",
    "    data['standard_units'].append(entry.get('standard_units', ''))\n",
    "    data['standard_type'].append(entry.get('standard_type', ''))\n",
    "    data['pchembl_value'].append(entry.get('pchembl_value', ''))\n",
    "    data['target_pref_name'].append(entry.get('target_pref_name', ''))\n",
    "    data['bao_label'].append(entry.get('bao_label', ''))\n",
    "print('done :d')\n",
    "print(len(data))"
   ]
  },
  {
   "cell_type": "code",
   "execution_count": 7,
   "id": "068f78ee-a978-4e3d-8058-7d1a2d995712",
   "metadata": {},
   "outputs": [],
   "source": [
    "df_bioactivities = pd.DataFrame(data)\n"
   ]
  },
  {
   "cell_type": "code",
   "execution_count": 8,
   "id": "a35ce8d9-e2c4-412e-9d65-c9a8d73f9851",
   "metadata": {},
   "outputs": [
    {
     "name": "stdout",
     "output_type": "stream",
     "text": [
      "7\n"
     ]
    }
   ],
   "source": [
    "\n",
    "df_bioactivities['pchembl_value'] = pd.to_numeric(df_bioactivities['pchembl_value'], errors='coerce')\n",
    "\n",
    "# Find indices of rows with the maximum pchembl_value for each canonical_smiles\n",
    "idx_to_keep = df_bioactivities.groupby('canonical_smiles')['pchembl_value'].idxmax()\n",
    "\n",
    "# Select rows with the highest pchembl_value for each canonical_smiles\n",
    "df_filtered = df_bioactivities.loc[idx_to_keep]\n",
    "\n",
    "print(len(df_filtered))"
   ]
  },
  {
   "cell_type": "code",
   "execution_count": 9,
   "id": "981e40ca-f39c-4d26-85b6-eb0eef2533ac",
   "metadata": {},
   "outputs": [],
   "source": [
    "df_bioactivities = df_filtered.drop_duplicates()\n",
    "df_bioactivities = df_filtered.dropna(subset=['canonical_smiles'])\n"
   ]
  },
  {
   "cell_type": "code",
   "execution_count": 10,
   "id": "49a7056a-94ef-43e7-bb78-9d2fa93da7b6",
   "metadata": {},
   "outputs": [],
   "source": [
    "def check_lipinski_rule(smiles):\n",
    "    if smiles and smiles.strip():  # Check if SMILES is not None or empty\n",
    "        mol = Chem.MolFromSmiles(smiles)\n",
    "        if mol:\n",
    "            return all([Lipinski.NumHDonors(mol) <= 5, Lipinski.NumHAcceptors(mol) <= 10, Descriptors.MolWt(mol) <= 500, Lipinski.NumRotatableBonds(mol) <= 10])\n",
    "    return False"
   ]
  },
  {
   "cell_type": "code",
   "execution_count": null,
   "id": "62a86adc-50d8-40cb-94d8-2678fe9aca8f",
   "metadata": {},
   "outputs": [],
   "source": [
    "# df_bioactivities['passes_lipinski'] = df_bioactivities['canonical_smiles'].apply(check_lipinski_rule)\n",
    "# filtered_df = df_bioactivities[df_bioactivities['passes_lipinski']]"
   ]
  },
  {
   "cell_type": "code",
   "execution_count": 12,
   "id": "35ce522c-eae5-42b3-8a15-038675100a5b",
   "metadata": {},
   "outputs": [],
   "source": [
    "csv_file_path = os.path.join(output_folder, name + '_IC50.csv')\n",
    "filtered_df.to_csv(csv_file_path, index=False)\n"
   ]
  },
  {
   "cell_type": "code",
   "execution_count": null,
   "id": "3f9530d6-bece-4fc5-8c4d-f83538428130",
   "metadata": {},
   "outputs": [],
   "source": []
  }
 ],
 "metadata": {
  "kernelspec": {
   "display_name": "Python 3 (ipykernel)",
   "language": "python",
   "name": "python3"
  },
  "language_info": {
   "codemirror_mode": {
    "name": "ipython",
    "version": 3
   },
   "file_extension": ".py",
   "mimetype": "text/x-python",
   "name": "python",
   "nbconvert_exporter": "python",
   "pygments_lexer": "ipython3",
   "version": "3.11.4"
  }
 },
 "nbformat": 4,
 "nbformat_minor": 5
}
