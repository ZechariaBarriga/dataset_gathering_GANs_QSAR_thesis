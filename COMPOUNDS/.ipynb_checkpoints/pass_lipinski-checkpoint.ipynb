{
 "cells": [
  {
   "cell_type": "code",
   "execution_count": 31,
   "id": "40edce81-6c05-4997-8de0-d60b82bb845f",
   "metadata": {},
   "outputs": [
    {
     "name": "stdout",
     "output_type": "stream",
     "text": [
      "Compounds that pass Lipinski Rule of Five:\n",
      "                                         canonical_smiles\n",
      "8        CC(/C=C/C(=O)NO)=C\\[C@@H](C)C(=O)c1ccc(N(C)C)cc1\n",
      "11      CC(=O)[C@]1(N)Cc2c(O)c3c(c(O)c2[C@@H](O[C@H]2C...\n",
      "13      CC(=O)[C@]1(O)Cc2c(O)c3c(c(O)c2[C@@H](O[C@H]2C...\n",
      "15                           CC(C)Cn1cnc2c(N)nc3ccccc3c21\n",
      "16      CC1(C)S[C@@H]2[C@H](NC(=O)Cc3ccccc3)C(=O)N2[C@...\n",
      "...                                                   ...\n",
      "132152  Cc1ccc2c(N3CCN(C(=O)N(c4nccc5ccccc45)[C@@H]4CC...\n",
      "132153   Cc1nccnc1N(C(=O)N1CCC(c2ccccc2)CC1)[C@@H]1CCCNC1\n",
      "132154  Cn1ccc2ccnc(N(C(=O)N3CCC(c4ccccc4)CC3)[C@@H]3C...\n",
      "132155  Cc1cccnc1N(C(=O)N1CCC(c2ccccc2F)CC1)[C@@H]1CCCNC1\n",
      "132156  Cc1cccnc1N(C(=O)N1CCC(c2cnn3cccnc23)CC1)[C@@H]...\n",
      "\n",
      "[85296 rows x 1 columns]\n"
     ]
    }
   ],
   "source": [
    "import pandas as pd\n",
    "from rdkit import Chem\n",
    "from rdkit.Chem import Descriptors\n",
    "\n",
    "# Function to check if a compound passes Lipinski Rule of Five\n",
    "def passes_lipinski_rule(smiles):\n",
    "    mol = Chem.MolFromSmiles(smiles)\n",
    "    if mol is not None:\n",
    "        return (Descriptors.MolWt(mol) <= 500) and (Descriptors.MolLogP(mol) <= 5) and (Descriptors.NumHDonors(mol) <= 5) and (Descriptors.NumHAcceptors(mol) <= 10)\n",
    "    else:\n",
    "        return False\n",
    "\n",
    "# Load your dataset (assuming you have a DataFrame with 'canonical_smiles' column)\n",
    "df = pd.read_csv('_Dataset_for_QSAR.csv')\n",
    "df = df.dropna()\n",
    "\n",
    "# Apply Lipinski Rule of Five to the dataset\n",
    "df['passes_lipinski'] = df['canonical_smiles'].apply(passes_lipinski_rule)\n",
    "\n",
    "# Save compounds that pass Lipinski Rule of Five to a new CSV file\n",
    "lipinski_pass_df = df[df['passes_lipinski']]\n",
    "lipinski_pass_df.to_csv('lipinski_passed.csv', index=False)\n",
    "\n",
    "# Display the result\n",
    "print(\"Compounds that pass Lipinski Rule of Five:\")\n",
    "print(lipinski_pass_df[['canonical_smiles']])\n",
    "\n"
   ]
  },
  {
   "cell_type": "code",
   "execution_count": null,
   "id": "edbd9488-0f21-4a62-b089-68600d16f551",
   "metadata": {},
   "outputs": [],
   "source": []
  }
 ],
 "metadata": {
  "kernelspec": {
   "display_name": "Python 3 (ipykernel)",
   "language": "python",
   "name": "python3"
  },
  "language_info": {
   "codemirror_mode": {
    "name": "ipython",
    "version": 3
   },
   "file_extension": ".py",
   "mimetype": "text/x-python",
   "name": "python",
   "nbconvert_exporter": "python",
   "pygments_lexer": "ipython3",
   "version": "3.11.4"
  }
 },
 "nbformat": 4,
 "nbformat_minor": 5
}
