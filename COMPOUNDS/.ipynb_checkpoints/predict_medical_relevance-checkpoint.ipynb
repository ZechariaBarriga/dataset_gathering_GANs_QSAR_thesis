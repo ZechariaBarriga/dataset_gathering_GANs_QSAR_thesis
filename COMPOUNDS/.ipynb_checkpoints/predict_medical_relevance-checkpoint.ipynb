{
 "cells": [
  {
   "cell_type": "code",
   "execution_count": 1,
   "id": "09270b5f-6e82-4fc7-99be-870d98fc6650",
   "metadata": {},
   "outputs": [],
   "source": [
    "import pandas as pd\n",
    "from rdkit import Chem\n",
    "from rdkit.Chem import Descriptors, Lipinski\n",
    "from sklearn.ensemble import RandomForestClassifier\n",
    "import joblib\n",
    "\n",
    "# Load the new dataset of generated SMILES\n",
    "new_data = pd.read_csv('test_data_QSAR.csv')\n",
    "\n",
    "# Calculate Lipinski descriptors for the new data\n",
    "def calculate_lipinski_descriptors(smiles):\n",
    "    mol = Chem.MolFromSmiles(smiles)\n",
    "    if mol is not None:\n",
    "        return [Descriptors.MolWt(mol), Descriptors.MolLogP(mol), Lipinski.NumHDonors(mol), Lipinski.NumHAcceptors(mol)]\n",
    "    else:\n",
    "        return [None, None, None, None]\n",
    "\n",
    "new_data[['mol_weight', 'mol_logP', 'num_H_donors', 'num_H_acceptors']] = new_data['canonical_smiles'].apply(calculate_lipinski_descriptors).apply(pd.Series)\n",
    "\n",
    "# Select features for prediction\n",
    "X_new = new_data[['mol_weight', 'mol_logP', 'num_H_donors', 'num_H_acceptors']]\n",
    "\n",
    "# Load the trained model\n",
    "loaded_model = joblib.load('qsar_model.joblib')\n",
    "\n",
    "# Use the loaded model to make predictions on the new data\n",
    "predictions_new = loaded_model.predict(X_new)\n",
    "\n",
    "# Add the predictions to the new dataset\n",
    "new_data['predicted_medical_relevance'] = predictions_new\n",
    "\n",
    "# Save or print the updated dataset with predictions\n",
    "new_data.to_csv('predicted_results.csv', index=False)\n",
    "\n"
   ]
  },
  {
   "cell_type": "code",
   "execution_count": null,
   "id": "dfd44576-faa6-4038-afa0-041b91afcc23",
   "metadata": {},
   "outputs": [],
   "source": []
  }
 ],
 "metadata": {
  "kernelspec": {
   "display_name": "Python 3 (ipykernel)",
   "language": "python",
   "name": "python3"
  },
  "language_info": {
   "codemirror_mode": {
    "name": "ipython",
    "version": 3
   },
   "file_extension": ".py",
   "mimetype": "text/x-python",
   "name": "python",
   "nbconvert_exporter": "python",
   "pygments_lexer": "ipython3",
   "version": "3.11.4"
  }
 },
 "nbformat": 4,
 "nbformat_minor": 5
}
