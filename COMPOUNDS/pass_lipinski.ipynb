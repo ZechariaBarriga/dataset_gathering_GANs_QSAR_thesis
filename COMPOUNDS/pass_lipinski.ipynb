{
 "cells": [
  {
   "cell_type": "code",
   "execution_count": 1,
   "id": "40edce81-6c05-4997-8de0-d60b82bb845f",
   "metadata": {},
   "outputs": [
    {
     "ename": "SyntaxError",
     "evalue": "invalid syntax (3973305401.py, line 9)",
     "output_type": "error",
     "traceback": [
      "\u001b[1;36m  Cell \u001b[1;32mIn[1], line 9\u001b[1;36m\u001b[0m\n\u001b[1;33m    return (Descriptors.MolWt(mol) <= 500) and (Descriptors.MolLogP(mol) <= 5) and\u001b[0m\n\u001b[1;37m                                                                                   ^\u001b[0m\n\u001b[1;31mSyntaxError\u001b[0m\u001b[1;31m:\u001b[0m invalid syntax\n"
     ]
    }
   ],
   "source": [
    "import pandas as pd\n",
    "from rdkit import Chem\n",
    "from rdkit.Chem import Descriptors\n",
    "\n",
    "# Function to check if a compound passes Lipinski Rule of Five\n",
    "def passes_lipinski_rule(smiles):\n",
    "    mol = Chem.MolFromSmiles(smiles)\n",
    "    if mol is not None:\n",
    "        return (Descriptors.MolWt(mol) <= 500) and (Descriptors.MolLogP(mol) <= 5) and (Descriptors.NumHDonors(mol) <= 5) and (Descriptors.NumHAcceptors(mol) <= 10)\n",
    "    else:\n",
    "        return False\n",
    "\n",
    "df = pd.read_csv('_Dataset_for_QSAR.csv')\n",
    "df = df.dropna()\n",
    "\n",
    "# Apply Lipinski Rule of Five to the dataset\n",
    "df['passes_lipinski'] = df['canonical_smiles'].apply(passes_lipinski_rule)\n",
    "\n",
    "# Save compounds that pass Lipinski Rule of Five to a new CSV file\n",
    "lipinski_pass_df = df[df['passes_lipinski']]\n",
    "lipinski_pass_df.to_csv('lipinski_passed.csv', index=False)\n",
    "\n",
    "# Display the result\n",
    "print(\"Compounds that pass Lipinski Rule of Five:\")\n",
    "print(lipinski_pass_df[['canonical_smiles']])\n",
    "\n"
   ]
  },
  {
   "cell_type": "code",
   "execution_count": null,
   "id": "edbd9488-0f21-4a62-b089-68600d16f551",
   "metadata": {},
   "outputs": [],
   "source": []
  }
 ],
 "metadata": {
  "kernelspec": {
   "display_name": "Python 3 (ipykernel)",
   "language": "python",
   "name": "python3"
  },
  "language_info": {
   "codemirror_mode": {
    "name": "ipython",
    "version": 3
   },
   "file_extension": ".py",
   "mimetype": "text/x-python",
   "name": "python",
   "nbconvert_exporter": "python",
   "pygments_lexer": "ipython3",
   "version": "3.11.4"
  }
 },
 "nbformat": 4,
 "nbformat_minor": 5
}
